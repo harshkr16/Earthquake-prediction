{
 "cells": [
  {
   "cell_type": "code",
   "execution_count": 214,
   "metadata": {},
   "outputs": [],
   "source": [
    "import pandas as pd\n",
    "import numpy as np\n",
    "import matplotlib.pyplot as plt\n",
    "from sklearn.model_selection import train_test_split\n",
    "\n"
   ]
  },
  {
   "cell_type": "code",
   "execution_count": 215,
   "metadata": {},
   "outputs": [
    {
     "data": {
      "text/html": [
       "<div>\n",
       "<style scoped>\n",
       "    .dataframe tbody tr th:only-of-type {\n",
       "        vertical-align: middle;\n",
       "    }\n",
       "\n",
       "    .dataframe tbody tr th {\n",
       "        vertical-align: top;\n",
       "    }\n",
       "\n",
       "    .dataframe thead th {\n",
       "        text-align: right;\n",
       "    }\n",
       "</style>\n",
       "<table border=\"1\" class=\"dataframe\">\n",
       "  <thead>\n",
       "    <tr style=\"text-align: right;\">\n",
       "      <th></th>\n",
       "      <th>x</th>\n",
       "      <th>y</th>\n",
       "      <th>z</th>\n",
       "    </tr>\n",
       "  </thead>\n",
       "  <tbody>\n",
       "    <tr>\n",
       "      <th>0</th>\n",
       "      <td>-0.064043</td>\n",
       "      <td>-0.044506</td>\n",
       "      <td>9.456333</td>\n",
       "    </tr>\n",
       "    <tr>\n",
       "      <th>1</th>\n",
       "      <td>-0.052072</td>\n",
       "      <td>-0.092388</td>\n",
       "      <td>9.973458</td>\n",
       "    </tr>\n",
       "    <tr>\n",
       "      <th>2</th>\n",
       "      <td>-0.087984</td>\n",
       "      <td>-0.078024</td>\n",
       "      <td>9.525763</td>\n",
       "    </tr>\n",
       "    <tr>\n",
       "      <th>3</th>\n",
       "      <td>-0.061649</td>\n",
       "      <td>-0.070842</td>\n",
       "      <td>10.02374</td>\n",
       "    </tr>\n",
       "    <tr>\n",
       "      <th>4</th>\n",
       "      <td>-0.076013</td>\n",
       "      <td>-0.07563</td>\n",
       "      <td>9.410846</td>\n",
       "    </tr>\n",
       "  </tbody>\n",
       "</table>\n",
       "</div>"
      ],
      "text/plain": [
       "           x          y         z\n",
       "0  -0.064043  -0.044506  9.456333\n",
       "1  -0.052072  -0.092388  9.973458\n",
       "2  -0.087984  -0.078024  9.525763\n",
       "3  -0.061649  -0.070842  10.02374\n",
       "4  -0.076013   -0.07563  9.410846"
      ]
     },
     "execution_count": 215,
     "metadata": {},
     "output_type": "execute_result"
    }
   ],
   "source": [
    "import boto3\n",
    "import pandas as pd\n",
    "from sagemaker import get_execution_role\n",
    "\n",
    "role = get_execution_role()\n",
    "\n",
    "bucket='dabba10'\n",
    "data_key = 'data/2020/05/05/07/Earthquake.parquet'\n",
    "data_location = 's3://{}/{}'.format(bucket, data_key)\n",
    "\n",
    "df1e=pd.read_parquet(data_location)\n",
    "df1e.head()"
   ]
  },
  {
   "cell_type": "code",
   "execution_count": 216,
   "metadata": {},
   "outputs": [
    {
     "data": {
      "text/html": [
       "<div>\n",
       "<style scoped>\n",
       "    .dataframe tbody tr th:only-of-type {\n",
       "        vertical-align: middle;\n",
       "    }\n",
       "\n",
       "    .dataframe tbody tr th {\n",
       "        vertical-align: top;\n",
       "    }\n",
       "\n",
       "    .dataframe thead th {\n",
       "        text-align: right;\n",
       "    }\n",
       "</style>\n",
       "<table border=\"1\" class=\"dataframe\">\n",
       "  <thead>\n",
       "    <tr style=\"text-align: right;\">\n",
       "      <th></th>\n",
       "      <th>x</th>\n",
       "      <th>y</th>\n",
       "      <th>z</th>\n",
       "    </tr>\n",
       "  </thead>\n",
       "  <tbody>\n",
       "    <tr>\n",
       "      <th>0</th>\n",
       "      <td>-0.020949</td>\n",
       "      <td>9.570194</td>\n",
       "      <td>1.230211</td>\n",
       "    </tr>\n",
       "    <tr>\n",
       "      <th>1</th>\n",
       "      <td>-0.037708</td>\n",
       "      <td>9.586952</td>\n",
       "      <td>1.244576</td>\n",
       "    </tr>\n",
       "    <tr>\n",
       "      <th>2</th>\n",
       "      <td>-0.028131</td>\n",
       "      <td>9.572588</td>\n",
       "      <td>1.314004</td>\n",
       "    </tr>\n",
       "    <tr>\n",
       "      <th>3</th>\n",
       "      <td>-0.037708</td>\n",
       "      <td>9.582165</td>\n",
       "      <td>1.285275</td>\n",
       "    </tr>\n",
       "    <tr>\n",
       "      <th>4</th>\n",
       "      <td>-0.064043</td>\n",
       "      <td>9.582165</td>\n",
       "      <td>1.316398</td>\n",
       "    </tr>\n",
       "  </tbody>\n",
       "</table>\n",
       "</div>"
      ],
      "text/plain": [
       "           x         y         z\n",
       "0  -0.020949  9.570194  1.230211\n",
       "1  -0.037708  9.586952  1.244576\n",
       "2  -0.028131  9.572588  1.314004\n",
       "3  -0.037708  9.582165  1.285275\n",
       "4  -0.064043  9.582165  1.316398"
      ]
     },
     "execution_count": 216,
     "metadata": {},
     "output_type": "execute_result"
    }
   ],
   "source": [
    "data_key = 'data/2020/05/07/12/earthquake_vertical.parquet'\n",
    "data_location = 's3://{}/{}'.format(bucket, data_key)\n",
    "\n",
    "df2e=pd.read_parquet(data_location)\n",
    "df2e.head()"
   ]
  },
  {
   "cell_type": "code",
   "execution_count": 217,
   "metadata": {},
   "outputs": [
    {
     "data": {
      "text/html": [
       "<div>\n",
       "<style scoped>\n",
       "    .dataframe tbody tr th:only-of-type {\n",
       "        vertical-align: middle;\n",
       "    }\n",
       "\n",
       "    .dataframe tbody tr th {\n",
       "        vertical-align: top;\n",
       "    }\n",
       "\n",
       "    .dataframe thead th {\n",
       "        text-align: right;\n",
       "    }\n",
       "</style>\n",
       "<table border=\"1\" class=\"dataframe\">\n",
       "  <thead>\n",
       "    <tr style=\"text-align: right;\">\n",
       "      <th></th>\n",
       "      <th>x</th>\n",
       "      <th>y</th>\n",
       "      <th>z</th>\n",
       "    </tr>\n",
       "  </thead>\n",
       "  <tbody>\n",
       "    <tr>\n",
       "      <th>0</th>\n",
       "      <td>9.694304</td>\n",
       "      <td>-0.202517</td>\n",
       "      <td>0.459311</td>\n",
       "    </tr>\n",
       "    <tr>\n",
       "      <th>1</th>\n",
       "      <td>9.65121</td>\n",
       "      <td>-0.161817</td>\n",
       "      <td>0.461705</td>\n",
       "    </tr>\n",
       "    <tr>\n",
       "      <th>2</th>\n",
       "      <td>9.627269</td>\n",
       "      <td>-0.188152</td>\n",
       "      <td>0.492828</td>\n",
       "    </tr>\n",
       "    <tr>\n",
       "      <th>3</th>\n",
       "      <td>9.687122</td>\n",
       "      <td>-0.171394</td>\n",
       "      <td>0.399459</td>\n",
       "    </tr>\n",
       "    <tr>\n",
       "      <th>4</th>\n",
       "      <td>9.684727</td>\n",
       "      <td>-0.171394</td>\n",
       "      <td>0.380306</td>\n",
       "    </tr>\n",
       "  </tbody>\n",
       "</table>\n",
       "</div>"
      ],
      "text/plain": [
       "          x          y         z\n",
       "0  9.694304  -0.202517  0.459311\n",
       "1   9.65121  -0.161817  0.461705\n",
       "2  9.627269  -0.188152  0.492828\n",
       "3  9.687122  -0.171394  0.399459\n",
       "4  9.684727  -0.171394  0.380306"
      ]
     },
     "execution_count": 217,
     "metadata": {},
     "output_type": "execute_result"
    }
   ],
   "source": [
    "data_key = 'data/2020/05/07/12/earthquakexz.parquet'\n",
    "data_location = 's3://{}/{}'.format(bucket, data_key)\n",
    "\n",
    "df3e=pd.read_parquet(data_location)\n",
    "df3e.head()"
   ]
  },
  {
   "cell_type": "code",
   "execution_count": 218,
   "metadata": {},
   "outputs": [],
   "source": [
    "role = get_execution_role()\n",
    "\n",
    "bucket='dabba10'\n",
    "data_key = 'data/2020/05/11/08/1earthquake.parquet'\n",
    "data_location = 's3://{}/{}'.format(bucket, data_key)\n",
    "\n",
    "df4e=pd.read_parquet(data_location)"
   ]
  },
  {
   "cell_type": "code",
   "execution_count": 219,
   "metadata": {},
   "outputs": [],
   "source": [
    "role = get_execution_role()\n",
    "\n",
    "bucket='dabba10'\n",
    "data_key = 'data/2020/05/11/08/2earthquake.parquet'\n",
    "data_location = 's3://{}/{}'.format(bucket, data_key)\n",
    "\n",
    "df5e=pd.read_parquet(data_location)"
   ]
  },
  {
   "cell_type": "code",
   "execution_count": null,
   "metadata": {},
   "outputs": [],
   "source": []
  },
  {
   "cell_type": "code",
   "execution_count": 220,
   "metadata": {},
   "outputs": [
    {
     "data": {
      "text/html": [
       "<div>\n",
       "<style scoped>\n",
       "    .dataframe tbody tr th:only-of-type {\n",
       "        vertical-align: middle;\n",
       "    }\n",
       "\n",
       "    .dataframe tbody tr th {\n",
       "        vertical-align: top;\n",
       "    }\n",
       "\n",
       "    .dataframe thead th {\n",
       "        text-align: right;\n",
       "    }\n",
       "</style>\n",
       "<table border=\"1\" class=\"dataframe\">\n",
       "  <thead>\n",
       "    <tr style=\"text-align: right;\">\n",
       "      <th></th>\n",
       "      <th>x</th>\n",
       "      <th>y</th>\n",
       "      <th>z</th>\n",
       "      <th>Sl.no</th>\n",
       "    </tr>\n",
       "  </thead>\n",
       "  <tbody>\n",
       "    <tr>\n",
       "      <th>0</th>\n",
       "      <td>-0.064043</td>\n",
       "      <td>-0.044506</td>\n",
       "      <td>9.456333</td>\n",
       "      <td>0</td>\n",
       "    </tr>\n",
       "    <tr>\n",
       "      <th>1</th>\n",
       "      <td>-0.052072</td>\n",
       "      <td>-0.092388</td>\n",
       "      <td>9.973458</td>\n",
       "      <td>1</td>\n",
       "    </tr>\n",
       "    <tr>\n",
       "      <th>2</th>\n",
       "      <td>-0.087984</td>\n",
       "      <td>-0.078024</td>\n",
       "      <td>9.525763</td>\n",
       "      <td>2</td>\n",
       "    </tr>\n",
       "    <tr>\n",
       "      <th>3</th>\n",
       "      <td>-0.061649</td>\n",
       "      <td>-0.070842</td>\n",
       "      <td>10.02374</td>\n",
       "      <td>3</td>\n",
       "    </tr>\n",
       "    <tr>\n",
       "      <th>4</th>\n",
       "      <td>-0.076013</td>\n",
       "      <td>-0.07563</td>\n",
       "      <td>9.410846</td>\n",
       "      <td>4</td>\n",
       "    </tr>\n",
       "  </tbody>\n",
       "</table>\n",
       "</div>"
      ],
      "text/plain": [
       "           x          y         z  Sl.no\n",
       "0  -0.064043  -0.044506  9.456333      0\n",
       "1  -0.052072  -0.092388  9.973458      1\n",
       "2  -0.087984  -0.078024  9.525763      2\n",
       "3  -0.061649  -0.070842  10.02374      3\n",
       "4  -0.076013   -0.07563  9.410846      4"
      ]
     },
     "execution_count": 220,
     "metadata": {},
     "output_type": "execute_result"
    }
   ],
   "source": [
    "df1e[\"Sl.no\"]= np.arange(len(df1e))\n",
    "df2e[\"Sl.no\"]= np.arange(len(df2e))\n",
    "df3e[\"Sl.no\"]= np.arange(len(df3e))\n",
    "df4e[\"Sl.no\"]= np.arange(len(df4e))\n",
    "df5e[\"Sl.no\"]= np.arange(len(df5e))\n",
    "\n",
    "df1e.head()\n"
   ]
  },
  {
   "cell_type": "code",
   "execution_count": 221,
   "metadata": {},
   "outputs": [
    {
     "data": {
      "text/html": [
       "<div>\n",
       "<style scoped>\n",
       "    .dataframe tbody tr th:only-of-type {\n",
       "        vertical-align: middle;\n",
       "    }\n",
       "\n",
       "    .dataframe tbody tr th {\n",
       "        vertical-align: top;\n",
       "    }\n",
       "\n",
       "    .dataframe thead th {\n",
       "        text-align: right;\n",
       "    }\n",
       "</style>\n",
       "<table border=\"1\" class=\"dataframe\">\n",
       "  <thead>\n",
       "    <tr style=\"text-align: right;\">\n",
       "      <th></th>\n",
       "      <th>Sl.no</th>\n",
       "      <th>x</th>\n",
       "      <th>y</th>\n",
       "      <th>z</th>\n",
       "    </tr>\n",
       "  </thead>\n",
       "  <tbody>\n",
       "    <tr>\n",
       "      <th>0</th>\n",
       "      <td>0</td>\n",
       "      <td>-0.064043</td>\n",
       "      <td>-0.044506</td>\n",
       "      <td>9.456333</td>\n",
       "    </tr>\n",
       "    <tr>\n",
       "      <th>1</th>\n",
       "      <td>1</td>\n",
       "      <td>-0.052072</td>\n",
       "      <td>-0.092388</td>\n",
       "      <td>9.973458</td>\n",
       "    </tr>\n",
       "    <tr>\n",
       "      <th>2</th>\n",
       "      <td>2</td>\n",
       "      <td>-0.087984</td>\n",
       "      <td>-0.078024</td>\n",
       "      <td>9.525763</td>\n",
       "    </tr>\n",
       "    <tr>\n",
       "      <th>3</th>\n",
       "      <td>3</td>\n",
       "      <td>-0.061649</td>\n",
       "      <td>-0.070842</td>\n",
       "      <td>10.02374</td>\n",
       "    </tr>\n",
       "    <tr>\n",
       "      <th>4</th>\n",
       "      <td>4</td>\n",
       "      <td>-0.076013</td>\n",
       "      <td>-0.07563</td>\n",
       "      <td>9.410846</td>\n",
       "    </tr>\n",
       "  </tbody>\n",
       "</table>\n",
       "</div>"
      ],
      "text/plain": [
       "   Sl.no          x          y         z\n",
       "0      0  -0.064043  -0.044506  9.456333\n",
       "1      1  -0.052072  -0.092388  9.973458\n",
       "2      2  -0.087984  -0.078024  9.525763\n",
       "3      3  -0.061649  -0.070842  10.02374\n",
       "4      4  -0.076013   -0.07563  9.410846"
      ]
     },
     "execution_count": 221,
     "metadata": {},
     "output_type": "execute_result"
    }
   ],
   "source": [
    "df1e = df1e.reindex(columns=['Sl.no',\"x\",\"y\",\"z\"])\n",
    "df2e = df2e.reindex(columns=['Sl.no',\"x\",\"y\",\"z\"])\n",
    "df3e = df3e.reindex(columns=['Sl.no',\"x\",\"y\",\"z\"])\n",
    "df4e = df4e.reindex(columns=['Sl.no',\"x\",\"y\",\"z\"])\n",
    "df5e = df5e.reindex(columns=['Sl.no',\"x\",\"y\",\"z\"])\n",
    "df1e.head()\n"
   ]
  },
  {
   "cell_type": "markdown",
   "metadata": {},
   "source": [
    "plots before filtering the data"
   ]
  },
  {
   "cell_type": "code",
   "execution_count": 222,
   "metadata": {},
   "outputs": [
    {
     "data": {
      "text/plain": [
       "Text(0, 0.5, 'Z acceleration')"
      ]
     },
     "execution_count": 222,
     "metadata": {},
     "output_type": "execute_result"
    },
    {
     "data": {
      "image/png": "[encoded data removed]",
      "text/plain": [
       "<Figure size 432x288 with 3 Axes>"
      ]
     },
     "metadata": {},
     "output_type": "display_data"
    }
   ],
   "source": [
    "xs=df1e[\"Sl.no\"]\n",
    "plt.subplot(3, 1, 1)\n",
    "plt.plot(xs,df1e[\"x\"])\n",
    "plt.title('A tale of 3 subplots')\n",
    "plt.ylabel('X acceleration')\n",
    "\n",
    "plt.subplot(3, 1, 2)\n",
    "plt.plot(xs, df1e[\"y\"])\n",
    "plt.xlabel('Sl.no')\n",
    "plt.ylabel('Y acceleration')\n",
    "\n",
    "plt.subplot(3, 1, 3)\n",
    "plt.plot(xs, df1e[\"z\"] )\n",
    "plt.xlabel('Sl.no')\n",
    "plt.ylabel('Z acceleration')"
   ]
  },
  {
   "cell_type": "code",
   "execution_count": 223,
   "metadata": {},
   "outputs": [
    {
     "data": {
      "text/plain": [
       "Text(0, 0.5, 'Z acceleration')"
      ]
     },
     "execution_count": 223,
     "metadata": {},
     "output_type": "execute_result"
    },
    {
     "data": {
      "image/png": "[encoded data removed]",
      "text/plain": [
       "<Figure size 432x288 with 3 Axes>"
      ]
     },
     "metadata": {},
     "output_type": "display_data"
    }
   ],
   "source": [
    "xs=df2e[\"Sl.no\"]\n",
    "plt.subplot(3, 1, 1)\n",
    "plt.plot(xs,df2e[\"x\"])\n",
    "plt.title('A tale of 3 subplots')\n",
    "plt.ylabel('X acceleration')\n",
    "\n",
    "plt.subplot(3, 1, 2)\n",
    "plt.plot(xs, df2e[\"y\"])\n",
    "plt.xlabel('Sl.no')\n",
    "plt.ylabel('Y acceleration')\n",
    "\n",
    "plt.subplot(3, 1, 3)\n",
    "plt.plot(xs, df2e[\"z\"] )\n",
    "plt.xlabel('Sl.no')\n",
    "plt.ylabel('Z acceleration')"
   ]
  },
  {
   "cell_type": "code",
   "execution_count": 224,
   "metadata": {},
   "outputs": [
    {
     "data": {
      "text/plain": [
       "Text(0, 0.5, 'Z acceleration')"
      ]
     },
     "execution_count": 224,
     "metadata": {},
     "output_type": "execute_result"
    },
    {
     "data": {
      "image/png": "[encoded data removed]",
      "text/plain": [
       "<Figure size 432x288 with 3 Axes>"
      ]
     },
     "metadata": {},
     "output_type": "display_data"
    }
   ],
   "source": [
    "xs=df3e[\"Sl.no\"]\n",
    "plt.subplot(3, 1, 1)\n",
    "plt.plot(xs,df3e[\"x\"])\n",
    "plt.title('A tale of 3 subplots')\n",
    "plt.ylabel('X acceleration')\n",
    "\n",
    "plt.subplot(3, 1, 2)\n",
    "plt.plot(xs, df3e[\"y\"])\n",
    "plt.xlabel('Sl.no')\n",
    "plt.ylabel('Y acceleration')\n",
    "\n",
    "plt.subplot(3, 1, 3)\n",
    "plt.plot(xs, df3e[\"z\"] )\n",
    "plt.xlabel('Sl.no')\n",
    "plt.ylabel('Z acceleration')"
   ]
  },
  {
   "cell_type": "code",
   "execution_count": 225,
   "metadata": {},
   "outputs": [],
   "source": [
    "def filter(val):\n",
    "\n",
    "    lx=val\n",
    "    x=lx.tolist()\n",
    "    for i in range(len(x)):\n",
    "        x[i]=float(x[i])\n",
    "    w=50\n",
    "    wh=int(w/2)\n",
    "    l=len(x)\n",
    "    i=0\n",
    "    tx=[]\n",
    "    mx=[]\n",
    "\n",
    "    while i<l:\n",
    "        if i<=wh:\n",
    "            tx.append(sum(x[0:i])+sum(x[i:(wh+i)]))\n",
    "            mx.append(tx[i]/(wh+i))\n",
    "          \n",
    "\n",
    "        elif wh<i<=l-wh:          \n",
    "            tx.append(sum(x[i-wh:i])+sum(x[i:i+wh]))\n",
    "            mx.append(tx[i]/w)\n",
    "    #            print(i,tx[i])\n",
    "\n",
    "        elif i>l-wh:\n",
    "            tx.append(sum(x[i-wh:i])+sum(x[i:l+1]))\n",
    "            mx.append(tx[i]/(wh+len(x[i:l+1])))\n",
    "    #            print(i,tx[i])\n",
    "        i=i+1   \n",
    "    return mx\n"
   ]
  },
  {
   "cell_type": "code",
   "execution_count": 226,
   "metadata": {},
   "outputs": [],
   "source": [
    "df1e[\"xf\"]=filter(df1e[\"x\"])\n",
    "df1e[\"yf\"]=filter(df1e[\"y\"])\n",
    "df1e[\"zf\"]=filter(df1e[\"z\"])\n",
    "df2e[\"xf\"]=filter(df2e[\"x\"])\n",
    "df2e[\"yf\"]=filter(df2e[\"y\"])\n",
    "df2e[\"zf\"]=filter(df2e[\"z\"])\n",
    "df3e[\"xf\"]=filter(df3e[\"x\"])\n",
    "df3e[\"yf\"]=filter(df3e[\"y\"])\n",
    "df3e[\"zf\"]=filter(df3e[\"z\"])\n",
    "df4e[\"xf\"]=filter(df4e[\"x\"])\n",
    "df4e[\"yf\"]=filter(df4e[\"y\"])\n",
    "df4e[\"zf\"]=filter(df4e[\"z\"])\n",
    "df5e[\"xf\"]=filter(df5e[\"x\"])\n",
    "df5e[\"yf\"]=filter(df5e[\"y\"])\n",
    "df5e[\"zf\"]=filter(df5e[\"z\"])"
   ]
  },
  {
   "cell_type": "code",
   "execution_count": 227,
   "metadata": {},
   "outputs": [
    {
     "data": {
      "text/plain": [
       "Text(0, 0.5, 'Zacceleration')"
      ]
     },
     "execution_count": 227,
     "metadata": {},
     "output_type": "execute_result"
    },
    {
     "data": {
      "image/png": "[encoded data removed]",
      "text/plain": [
       "<Figure size 432x288 with 3 Axes>"
      ]
     },
     "metadata": {},
     "output_type": "display_data"
    }
   ],
   "source": [
    "xs=df1e[\"Sl.no\"]\n",
    "plt.subplot(3, 1, 1)\n",
    "plt.plot(xs,df1e[\"xf\"])\n",
    "plt.title('A tale of 3 subplots')\n",
    "plt.ylabel('X acceleration')\n",
    "\n",
    "plt.subplot(3, 1, 2)\n",
    "plt.plot(xs, df1e[\"yf\"])\n",
    "plt.xlabel('Sl.no')\n",
    "plt.ylabel('Y acceleration')\n",
    "\n",
    "plt.subplot(3, 1, 3)\n",
    "plt.plot(xs, df1e[\"zf\"] )\n",
    "plt.xlabel('Sl.no')\n",
    "plt.ylabel('Zacceleration')"
   ]
  },
  {
   "cell_type": "code",
   "execution_count": 228,
   "metadata": {},
   "outputs": [
    {
     "data": {
      "text/plain": [
       "Text(0, 0.5, 'Zacceleration')"
      ]
     },
     "execution_count": 228,
     "metadata": {},
     "output_type": "execute_result"
    },
    {
     "data": {
      "image/png": "[encoded data removed]",
      "text/plain": [
       "<Figure size 432x288 with 3 Axes>"
      ]
     },
     "metadata": {},
     "output_type": "display_data"
    }
   ],
   "source": [
    "xs=df2e[\"Sl.no\"]\n",
    "plt.subplot(3, 1, 1)\n",
    "plt.plot(xs,df2e[\"xf\"])\n",
    "plt.title('A tale of 3 subplots')\n",
    "plt.ylabel('X acceleration')\n",
    "\n",
    "plt.subplot(3, 1, 2)\n",
    "plt.plot(xs, df2e[\"yf\"])\n",
    "plt.xlabel('Sl.no')\n",
    "plt.ylabel('Y acceleration')\n",
    "\n",
    "plt.subplot(3, 1, 3)\n",
    "plt.plot(xs, df2e[\"zf\"] )\n",
    "plt.xlabel('Sl.no')\n",
    "plt.ylabel('Zacceleration')"
   ]
  },
  {
   "cell_type": "code",
   "execution_count": 229,
   "metadata": {},
   "outputs": [
    {
     "data": {
      "text/plain": [
       "Text(0, 0.5, 'Zacceleration')"
      ]
     },
     "execution_count": 229,
     "metadata": {},
     "output_type": "execute_result"
    },
    {
     "data": {
      "image/png": "[encoded data removed]",
      "text/plain": [
       "<Figure size 432x288 with 3 Axes>"
      ]
     },
     "metadata": {},
     "output_type": "display_data"
    }
   ],
   "source": [
    "xs=df3e[\"Sl.no\"]\n",
    "plt.subplot(3, 1, 1)\n",
    "plt.plot(xs,df3e[\"xf\"])\n",
    "plt.title('A tale of 3 subplots')\n",
    "plt.ylabel('X acceleration')\n",
    "\n",
    "plt.subplot(3, 1, 2)\n",
    "plt.plot(xs, df3e[\"yf\"])\n",
    "plt.xlabel('Sl.no')\n",
    "plt.ylabel('Y acceleration')\n",
    "\n",
    "plt.subplot(3, 1, 3)\n",
    "plt.plot(xs, df3e[\"zf\"] )\n",
    "plt.xlabel('Sl.no')\n",
    "plt.ylabel('Zacceleration')"
   ]
  },
  {
   "cell_type": "markdown",
   "metadata": {},
   "source": [
    "graphs of filtered data"
   ]
  },
  {
   "cell_type": "code",
   "execution_count": 230,
   "metadata": {},
   "outputs": [
    {
     "data": {
      "text/html": [
       "<div>\n",
       "<style scoped>\n",
       "    .dataframe tbody tr th:only-of-type {\n",
       "        vertical-align: middle;\n",
       "    }\n",
       "\n",
       "    .dataframe tbody tr th {\n",
       "        vertical-align: top;\n",
       "    }\n",
       "\n",
       "    .dataframe thead th {\n",
       "        text-align: right;\n",
       "    }\n",
       "</style>\n",
       "<table border=\"1\" class=\"dataframe\">\n",
       "  <thead>\n",
       "    <tr style=\"text-align: right;\">\n",
       "      <th></th>\n",
       "      <th>Sl.no</th>\n",
       "      <th>x</th>\n",
       "      <th>y</th>\n",
       "      <th>z</th>\n",
       "      <th>xf</th>\n",
       "      <th>yf</th>\n",
       "      <th>zf</th>\n",
       "    </tr>\n",
       "  </thead>\n",
       "  <tbody>\n",
       "    <tr>\n",
       "      <th>0</th>\n",
       "      <td>0</td>\n",
       "      <td>-0.064043</td>\n",
       "      <td>-0.044506</td>\n",
       "      <td>9.456333</td>\n",
       "      <td>-0.076779</td>\n",
       "      <td>-0.093825</td>\n",
       "      <td>9.817077</td>\n",
       "    </tr>\n",
       "    <tr>\n",
       "      <th>1</th>\n",
       "      <td>1</td>\n",
       "      <td>-0.052072</td>\n",
       "      <td>-0.092388</td>\n",
       "      <td>9.973458</td>\n",
       "      <td>-0.076934</td>\n",
       "      <td>-0.093678</td>\n",
       "      <td>9.806609</td>\n",
       "    </tr>\n",
       "    <tr>\n",
       "      <th>2</th>\n",
       "      <td>2</td>\n",
       "      <td>-0.087984</td>\n",
       "      <td>-0.078024</td>\n",
       "      <td>9.525763</td>\n",
       "      <td>-0.077432</td>\n",
       "      <td>-0.092211</td>\n",
       "      <td>9.801616</td>\n",
       "    </tr>\n",
       "    <tr>\n",
       "      <th>3</th>\n",
       "      <td>3</td>\n",
       "      <td>-0.061649</td>\n",
       "      <td>-0.070842</td>\n",
       "      <td>10.02374</td>\n",
       "      <td>-0.077210</td>\n",
       "      <td>-0.092388</td>\n",
       "      <td>9.793132</td>\n",
       "    </tr>\n",
       "    <tr>\n",
       "      <th>4</th>\n",
       "      <td>4</td>\n",
       "      <td>-0.076013</td>\n",
       "      <td>-0.07563</td>\n",
       "      <td>9.410846</td>\n",
       "      <td>-0.078737</td>\n",
       "      <td>-0.094205</td>\n",
       "      <td>9.811734</td>\n",
       "    </tr>\n",
       "  </tbody>\n",
       "</table>\n",
       "</div>"
      ],
      "text/plain": [
       "   Sl.no          x          y         z        xf        yf        zf\n",
       "0      0  -0.064043  -0.044506  9.456333 -0.076779 -0.093825  9.817077\n",
       "1      1  -0.052072  -0.092388  9.973458 -0.076934 -0.093678  9.806609\n",
       "2      2  -0.087984  -0.078024  9.525763 -0.077432 -0.092211  9.801616\n",
       "3      3  -0.061649  -0.070842  10.02374 -0.077210 -0.092388  9.793132\n",
       "4      4  -0.076013   -0.07563  9.410846 -0.078737 -0.094205  9.811734"
      ]
     },
     "execution_count": 230,
     "metadata": {},
     "output_type": "execute_result"
    }
   ],
   "source": [
    "dfe=pd.concat([df1e,df2e,df3e,df4e,df5e])\n",
    "dfe.head()"
   ]
  },
  {
   "cell_type": "code",
   "execution_count": 231,
   "metadata": {},
   "outputs": [],
   "source": [
    "dfe.drop(columns=\"Sl.no\",inplace=True)\n",
    "dfe[\"Sl.no\"]= np.arange(len(dfe))\n"
   ]
  },
  {
   "cell_type": "code",
   "execution_count": 232,
   "metadata": {},
   "outputs": [],
   "source": [
    "dfe=dfe.reindex(columns=(\"Sl.no\",\"x\",\"y\",\"z\",\"xf\",\"yf\",\"zf\",\"Activity\"))"
   ]
  },
  {
   "cell_type": "code",
   "execution_count": 233,
   "metadata": {},
   "outputs": [
    {
     "data": {
      "text/html": [
       "<div>\n",
       "<style scoped>\n",
       "    .dataframe tbody tr th:only-of-type {\n",
       "        vertical-align: middle;\n",
       "    }\n",
       "\n",
       "    .dataframe tbody tr th {\n",
       "        vertical-align: top;\n",
       "    }\n",
       "\n",
       "    .dataframe thead th {\n",
       "        text-align: right;\n",
       "    }\n",
       "</style>\n",
       "<table border=\"1\" class=\"dataframe\">\n",
       "  <thead>\n",
       "    <tr style=\"text-align: right;\">\n",
       "      <th></th>\n",
       "      <th>Sl.no</th>\n",
       "      <th>x</th>\n",
       "      <th>y</th>\n",
       "      <th>z</th>\n",
       "      <th>xf</th>\n",
       "      <th>yf</th>\n",
       "      <th>zf</th>\n",
       "      <th>Activity</th>\n",
       "    </tr>\n",
       "  </thead>\n",
       "  <tbody>\n",
       "    <tr>\n",
       "      <th>176</th>\n",
       "      <td>1024</td>\n",
       "      <td>-0.016161</td>\n",
       "      <td>-0.137876</td>\n",
       "      <td>9.868118</td>\n",
       "      <td>0.002034</td>\n",
       "      <td>-0.133727</td>\n",
       "      <td>9.833644</td>\n",
       "      <td>NaN</td>\n",
       "    </tr>\n",
       "    <tr>\n",
       "      <th>177</th>\n",
       "      <td>1025</td>\n",
       "      <td>-0.030525</td>\n",
       "      <td>-0.121118</td>\n",
       "      <td>9.76996</td>\n",
       "      <td>0.001836</td>\n",
       "      <td>-0.134079</td>\n",
       "      <td>9.830887</td>\n",
       "      <td>NaN</td>\n",
       "    </tr>\n",
       "    <tr>\n",
       "      <th>178</th>\n",
       "      <td>1026</td>\n",
       "      <td>0.005386</td>\n",
       "      <td>-0.130694</td>\n",
       "      <td>9.83939</td>\n",
       "      <td>0.002052</td>\n",
       "      <td>-0.134627</td>\n",
       "      <td>9.829728</td>\n",
       "      <td>NaN</td>\n",
       "    </tr>\n",
       "    <tr>\n",
       "      <th>179</th>\n",
       "      <td>1027</td>\n",
       "      <td>0.005386</td>\n",
       "      <td>-0.152241</td>\n",
       "      <td>9.779536</td>\n",
       "      <td>0.003169</td>\n",
       "      <td>-0.134152</td>\n",
       "      <td>9.822897</td>\n",
       "      <td>NaN</td>\n",
       "    </tr>\n",
       "    <tr>\n",
       "      <th>180</th>\n",
       "      <td>1028</td>\n",
       "      <td>0.017357</td>\n",
       "      <td>-0.1283</td>\n",
       "      <td>9.645468</td>\n",
       "      <td>0.000874</td>\n",
       "      <td>-0.135022</td>\n",
       "      <td>9.827051</td>\n",
       "      <td>NaN</td>\n",
       "    </tr>\n",
       "  </tbody>\n",
       "</table>\n",
       "</div>"
      ],
      "text/plain": [
       "     Sl.no          x          y         z        xf        yf        zf  \\\n",
       "176   1024  -0.016161  -0.137876  9.868118  0.002034 -0.133727  9.833644   \n",
       "177   1025  -0.030525  -0.121118   9.76996  0.001836 -0.134079  9.830887   \n",
       "178   1026   0.005386  -0.130694   9.83939  0.002052 -0.134627  9.829728   \n",
       "179   1027   0.005386  -0.152241  9.779536  0.003169 -0.134152  9.822897   \n",
       "180   1028   0.017357    -0.1283  9.645468  0.000874 -0.135022  9.827051   \n",
       "\n",
       "     Activity  \n",
       "176       NaN  \n",
       "177       NaN  \n",
       "178       NaN  \n",
       "179       NaN  \n",
       "180       NaN  "
      ]
     },
     "execution_count": 233,
     "metadata": {},
     "output_type": "execute_result"
    }
   ],
   "source": [
    "dfe.tail()"
   ]
  },
  {
   "cell_type": "code",
   "execution_count": 234,
   "metadata": {},
   "outputs": [],
   "source": [
    "a=[]\n",
    "for i in range(len(dfe)):\n",
    "    a.append(\"Earthquake\")\n",
    "dfe[\"Activity\"]=a    \n"
   ]
  },
  {
   "cell_type": "code",
   "execution_count": 235,
   "metadata": {},
   "outputs": [
    {
     "data": {
      "text/html": [
       "<div>\n",
       "<style scoped>\n",
       "    .dataframe tbody tr th:only-of-type {\n",
       "        vertical-align: middle;\n",
       "    }\n",
       "\n",
       "    .dataframe tbody tr th {\n",
       "        vertical-align: top;\n",
       "    }\n",
       "\n",
       "    .dataframe thead th {\n",
       "        text-align: right;\n",
       "    }\n",
       "</style>\n",
       "<table border=\"1\" class=\"dataframe\">\n",
       "  <thead>\n",
       "    <tr style=\"text-align: right;\">\n",
       "      <th></th>\n",
       "      <th>Sl.no</th>\n",
       "      <th>x</th>\n",
       "      <th>y</th>\n",
       "      <th>z</th>\n",
       "      <th>xf</th>\n",
       "      <th>yf</th>\n",
       "      <th>zf</th>\n",
       "      <th>Activity</th>\n",
       "    </tr>\n",
       "  </thead>\n",
       "  <tbody>\n",
       "    <tr>\n",
       "      <th>176</th>\n",
       "      <td>1024</td>\n",
       "      <td>-0.016161</td>\n",
       "      <td>-0.137876</td>\n",
       "      <td>9.868118</td>\n",
       "      <td>0.002034</td>\n",
       "      <td>-0.133727</td>\n",
       "      <td>9.833644</td>\n",
       "      <td>Earthquake</td>\n",
       "    </tr>\n",
       "    <tr>\n",
       "      <th>177</th>\n",
       "      <td>1025</td>\n",
       "      <td>-0.030525</td>\n",
       "      <td>-0.121118</td>\n",
       "      <td>9.76996</td>\n",
       "      <td>0.001836</td>\n",
       "      <td>-0.134079</td>\n",
       "      <td>9.830887</td>\n",
       "      <td>Earthquake</td>\n",
       "    </tr>\n",
       "    <tr>\n",
       "      <th>178</th>\n",
       "      <td>1026</td>\n",
       "      <td>0.005386</td>\n",
       "      <td>-0.130694</td>\n",
       "      <td>9.83939</td>\n",
       "      <td>0.002052</td>\n",
       "      <td>-0.134627</td>\n",
       "      <td>9.829728</td>\n",
       "      <td>Earthquake</td>\n",
       "    </tr>\n",
       "    <tr>\n",
       "      <th>179</th>\n",
       "      <td>1027</td>\n",
       "      <td>0.005386</td>\n",
       "      <td>-0.152241</td>\n",
       "      <td>9.779536</td>\n",
       "      <td>0.003169</td>\n",
       "      <td>-0.134152</td>\n",
       "      <td>9.822897</td>\n",
       "      <td>Earthquake</td>\n",
       "    </tr>\n",
       "    <tr>\n",
       "      <th>180</th>\n",
       "      <td>1028</td>\n",
       "      <td>0.017357</td>\n",
       "      <td>-0.1283</td>\n",
       "      <td>9.645468</td>\n",
       "      <td>0.000874</td>\n",
       "      <td>-0.135022</td>\n",
       "      <td>9.827051</td>\n",
       "      <td>Earthquake</td>\n",
       "    </tr>\n",
       "  </tbody>\n",
       "</table>\n",
       "</div>"
      ],
      "text/plain": [
       "     Sl.no          x          y         z        xf        yf        zf  \\\n",
       "176   1024  -0.016161  -0.137876  9.868118  0.002034 -0.133727  9.833644   \n",
       "177   1025  -0.030525  -0.121118   9.76996  0.001836 -0.134079  9.830887   \n",
       "178   1026   0.005386  -0.130694   9.83939  0.002052 -0.134627  9.829728   \n",
       "179   1027   0.005386  -0.152241  9.779536  0.003169 -0.134152  9.822897   \n",
       "180   1028   0.017357    -0.1283  9.645468  0.000874 -0.135022  9.827051   \n",
       "\n",
       "       Activity  \n",
       "176  Earthquake  \n",
       "177  Earthquake  \n",
       "178  Earthquake  \n",
       "179  Earthquake  \n",
       "180  Earthquake  "
      ]
     },
     "execution_count": 235,
     "metadata": {},
     "output_type": "execute_result"
    }
   ],
   "source": [
    "dfe.tail()"
   ]
  },
  {
   "cell_type": "code",
   "execution_count": 236,
   "metadata": {},
   "outputs": [
    {
     "data": {
      "text/html": [
       "<div>\n",
       "<style scoped>\n",
       "    .dataframe tbody tr th:only-of-type {\n",
       "        vertical-align: middle;\n",
       "    }\n",
       "\n",
       "    .dataframe tbody tr th {\n",
       "        vertical-align: top;\n",
       "    }\n",
       "\n",
       "    .dataframe thead th {\n",
       "        text-align: right;\n",
       "    }\n",
       "</style>\n",
       "<table border=\"1\" class=\"dataframe\">\n",
       "  <thead>\n",
       "    <tr style=\"text-align: right;\">\n",
       "      <th></th>\n",
       "      <th>Sl.no</th>\n",
       "      <th>xf</th>\n",
       "      <th>yf</th>\n",
       "      <th>zf</th>\n",
       "    </tr>\n",
       "  </thead>\n",
       "  <tbody>\n",
       "    <tr>\n",
       "      <th>count</th>\n",
       "      <td>1029.000000</td>\n",
       "      <td>1029.000000</td>\n",
       "      <td>1029.000000</td>\n",
       "      <td>1029.000000</td>\n",
       "    </tr>\n",
       "    <tr>\n",
       "      <th>mean</th>\n",
       "      <td>514.000000</td>\n",
       "      <td>1.858073</td>\n",
       "      <td>1.710425</td>\n",
       "      <td>6.384684</td>\n",
       "    </tr>\n",
       "    <tr>\n",
       "      <th>std</th>\n",
       "      <td>297.191016</td>\n",
       "      <td>3.841254</td>\n",
       "      <td>3.807488</td>\n",
       "      <td>4.400206</td>\n",
       "    </tr>\n",
       "    <tr>\n",
       "      <th>min</th>\n",
       "      <td>0.000000</td>\n",
       "      <td>-0.088415</td>\n",
       "      <td>-0.188679</td>\n",
       "      <td>0.396777</td>\n",
       "    </tr>\n",
       "    <tr>\n",
       "      <th>25%</th>\n",
       "      <td>257.000000</td>\n",
       "      <td>-0.038929</td>\n",
       "      <td>-0.132466</td>\n",
       "      <td>1.236531</td>\n",
       "    </tr>\n",
       "    <tr>\n",
       "      <th>50%</th>\n",
       "      <td>514.000000</td>\n",
       "      <td>0.001268</td>\n",
       "      <td>-0.116425</td>\n",
       "      <td>9.817986</td>\n",
       "    </tr>\n",
       "    <tr>\n",
       "      <th>75%</th>\n",
       "      <td>771.000000</td>\n",
       "      <td>0.028322</td>\n",
       "      <td>-0.090377</td>\n",
       "      <td>9.847960</td>\n",
       "    </tr>\n",
       "    <tr>\n",
       "      <th>max</th>\n",
       "      <td>1028.000000</td>\n",
       "      <td>9.680131</td>\n",
       "      <td>9.583026</td>\n",
       "      <td>9.947124</td>\n",
       "    </tr>\n",
       "  </tbody>\n",
       "</table>\n",
       "</div>"
      ],
      "text/plain": [
       "             Sl.no           xf           yf           zf\n",
       "count  1029.000000  1029.000000  1029.000000  1029.000000\n",
       "mean    514.000000     1.858073     1.710425     6.384684\n",
       "std     297.191016     3.841254     3.807488     4.400206\n",
       "min       0.000000    -0.088415    -0.188679     0.396777\n",
       "25%     257.000000    -0.038929    -0.132466     1.236531\n",
       "50%     514.000000     0.001268    -0.116425     9.817986\n",
       "75%     771.000000     0.028322    -0.090377     9.847960\n",
       "max    1028.000000     9.680131     9.583026     9.947124"
      ]
     },
     "execution_count": 236,
     "metadata": {},
     "output_type": "execute_result"
    }
   ],
   "source": [
    "dfe.describe()"
   ]
  },
  {
   "cell_type": "code",
   "execution_count": 237,
   "metadata": {},
   "outputs": [
    {
     "data": {
      "text/plain": [
       "Sl.no       0\n",
       "x           0\n",
       "y           0\n",
       "z           0\n",
       "xf          0\n",
       "yf          0\n",
       "zf          0\n",
       "Activity    0\n",
       "dtype: int64"
      ]
     },
     "execution_count": 237,
     "metadata": {},
     "output_type": "execute_result"
    }
   ],
   "source": [
    "dfe.isnull().sum()"
   ]
  },
  {
   "cell_type": "code",
   "execution_count": 239,
   "metadata": {},
   "outputs": [],
   "source": [
    "data_key = 'data/2020/05/07/10/ontable.parquet'\n",
    "data_location = 's3://{}/{}'.format(bucket, data_key)\n",
    "\n",
    "df1n=pd.read_parquet(data_location)\n"
   ]
  },
  {
   "cell_type": "code",
   "execution_count": 240,
   "metadata": {},
   "outputs": [],
   "source": [
    "data_key = 'data/2020/05/07/11/pocket_walking.parquet'\n",
    "data_location = 's3://{}/{}'.format(bucket, data_key)\n",
    "\n",
    "df2n=pd.read_parquet(data_location)"
   ]
  },
  {
   "cell_type": "code",
   "execution_count": 241,
   "metadata": {},
   "outputs": [],
   "source": [
    "data_key = 'data/2020/05/07/11/walking_hand.parquet'\n",
    "data_location = 's3://{}/{}'.format(bucket, data_key)\n",
    "\n",
    "df3n=pd.read_parquet(data_location)"
   ]
  },
  {
   "cell_type": "code",
   "execution_count": 242,
   "metadata": {},
   "outputs": [],
   "source": [
    "df1n[\"xf\"]=filter(df1n[\"x\"])\n",
    "df1n[\"yf\"]=filter(df1n[\"y\"])\n",
    "df1n[\"zf\"]=filter(df1n[\"z\"])\n",
    "df2n[\"xf\"]=filter(df2n[\"x\"])\n",
    "df2n[\"yf\"]=filter(df2n[\"y\"])\n",
    "df2n[\"zf\"]=filter(df2n[\"z\"])\n",
    "df3n[\"xf\"]=filter(df3n[\"x\"])\n",
    "df3n[\"yf\"]=filter(df3n[\"y\"])\n",
    "df3n[\"zf\"]=filter(df3n[\"z\"])"
   ]
  },
  {
   "cell_type": "code",
   "execution_count": 243,
   "metadata": {},
   "outputs": [
    {
     "data": {
      "text/html": [
       "<div>\n",
       "<style scoped>\n",
       "    .dataframe tbody tr th:only-of-type {\n",
       "        vertical-align: middle;\n",
       "    }\n",
       "\n",
       "    .dataframe tbody tr th {\n",
       "        vertical-align: top;\n",
       "    }\n",
       "\n",
       "    .dataframe thead th {\n",
       "        text-align: right;\n",
       "    }\n",
       "</style>\n",
       "<table border=\"1\" class=\"dataframe\">\n",
       "  <thead>\n",
       "    <tr style=\"text-align: right;\">\n",
       "      <th></th>\n",
       "      <th>x</th>\n",
       "      <th>y</th>\n",
       "      <th>z</th>\n",
       "      <th>xf</th>\n",
       "      <th>yf</th>\n",
       "      <th>zf</th>\n",
       "    </tr>\n",
       "  </thead>\n",
       "  <tbody>\n",
       "    <tr>\n",
       "      <th>0</th>\n",
       "      <td>0.879232</td>\n",
       "      <td>2.639278</td>\n",
       "      <td>9.231289</td>\n",
       "      <td>0.490048</td>\n",
       "      <td>3.427894</td>\n",
       "      <td>9.189057</td>\n",
       "    </tr>\n",
       "    <tr>\n",
       "      <th>1</th>\n",
       "      <td>0.951055</td>\n",
       "      <td>2.689554</td>\n",
       "      <td>9.202559</td>\n",
       "      <td>0.504372</td>\n",
       "      <td>3.400141</td>\n",
       "      <td>9.245837</td>\n",
       "    </tr>\n",
       "    <tr>\n",
       "      <th>2</th>\n",
       "      <td>0.996543</td>\n",
       "      <td>2.902629</td>\n",
       "      <td>9.102008</td>\n",
       "      <td>0.509832</td>\n",
       "      <td>3.382158</td>\n",
       "      <td>9.248402</td>\n",
       "    </tr>\n",
       "    <tr>\n",
       "      <th>3</th>\n",
       "      <td>1.006119</td>\n",
       "      <td>2.751801</td>\n",
       "      <td>9.192983</td>\n",
       "      <td>0.498998</td>\n",
       "      <td>3.412316</td>\n",
       "      <td>9.177763</td>\n",
       "    </tr>\n",
       "    <tr>\n",
       "      <th>4</th>\n",
       "      <td>0.958238</td>\n",
       "      <td>2.553091</td>\n",
       "      <td>9.322265</td>\n",
       "      <td>0.538940</td>\n",
       "      <td>3.520637</td>\n",
       "      <td>9.123471</td>\n",
       "    </tr>\n",
       "  </tbody>\n",
       "</table>\n",
       "</div>"
      ],
      "text/plain": [
       "          x         y         z        xf        yf        zf\n",
       "0  0.879232  2.639278  9.231289  0.490048  3.427894  9.189057\n",
       "1  0.951055  2.689554  9.202559  0.504372  3.400141  9.245837\n",
       "2  0.996543  2.902629  9.102008  0.509832  3.382158  9.248402\n",
       "3  1.006119  2.751801  9.192983  0.498998  3.412316  9.177763\n",
       "4  0.958238  2.553091  9.322265  0.538940  3.520637  9.123471"
      ]
     },
     "execution_count": 243,
     "metadata": {},
     "output_type": "execute_result"
    }
   ],
   "source": [
    "dfn=pd.concat([df1n,df2n,df3n])\n",
    "dfn.head()"
   ]
  },
  {
   "cell_type": "code",
   "execution_count": 244,
   "metadata": {},
   "outputs": [],
   "source": [
    "a=[]\n",
    "for i in range(len(dfn)):\n",
    "    a.append(\"no-Earthquake\")\n",
    "dfn[\"Activity\"]=a    \n"
   ]
  },
  {
   "cell_type": "code",
   "execution_count": 245,
   "metadata": {},
   "outputs": [
    {
     "data": {
      "text/html": [
       "<div>\n",
       "<style scoped>\n",
       "    .dataframe tbody tr th:only-of-type {\n",
       "        vertical-align: middle;\n",
       "    }\n",
       "\n",
       "    .dataframe tbody tr th {\n",
       "        vertical-align: top;\n",
       "    }\n",
       "\n",
       "    .dataframe thead th {\n",
       "        text-align: right;\n",
       "    }\n",
       "</style>\n",
       "<table border=\"1\" class=\"dataframe\">\n",
       "  <thead>\n",
       "    <tr style=\"text-align: right;\">\n",
       "      <th></th>\n",
       "      <th>Sl.no</th>\n",
       "      <th>x</th>\n",
       "      <th>y</th>\n",
       "      <th>z</th>\n",
       "      <th>xf</th>\n",
       "      <th>yf</th>\n",
       "      <th>zf</th>\n",
       "      <th>Activity</th>\n",
       "    </tr>\n",
       "  </thead>\n",
       "  <tbody>\n",
       "    <tr>\n",
       "      <th>0</th>\n",
       "      <td>0</td>\n",
       "      <td>0.879232</td>\n",
       "      <td>2.639278</td>\n",
       "      <td>9.231289</td>\n",
       "      <td>0.490048</td>\n",
       "      <td>3.427894</td>\n",
       "      <td>9.189057</td>\n",
       "      <td>no-Earthquake</td>\n",
       "    </tr>\n",
       "    <tr>\n",
       "      <th>1</th>\n",
       "      <td>1</td>\n",
       "      <td>0.951055</td>\n",
       "      <td>2.689554</td>\n",
       "      <td>9.202559</td>\n",
       "      <td>0.504372</td>\n",
       "      <td>3.400141</td>\n",
       "      <td>9.245837</td>\n",
       "      <td>no-Earthquake</td>\n",
       "    </tr>\n",
       "    <tr>\n",
       "      <th>2</th>\n",
       "      <td>2</td>\n",
       "      <td>0.996543</td>\n",
       "      <td>2.902629</td>\n",
       "      <td>9.102008</td>\n",
       "      <td>0.509832</td>\n",
       "      <td>3.382158</td>\n",
       "      <td>9.248402</td>\n",
       "      <td>no-Earthquake</td>\n",
       "    </tr>\n",
       "    <tr>\n",
       "      <th>3</th>\n",
       "      <td>3</td>\n",
       "      <td>1.006119</td>\n",
       "      <td>2.751801</td>\n",
       "      <td>9.192983</td>\n",
       "      <td>0.498998</td>\n",
       "      <td>3.412316</td>\n",
       "      <td>9.177763</td>\n",
       "      <td>no-Earthquake</td>\n",
       "    </tr>\n",
       "    <tr>\n",
       "      <th>4</th>\n",
       "      <td>4</td>\n",
       "      <td>0.958238</td>\n",
       "      <td>2.553091</td>\n",
       "      <td>9.322265</td>\n",
       "      <td>0.538940</td>\n",
       "      <td>3.520637</td>\n",
       "      <td>9.123471</td>\n",
       "      <td>no-Earthquake</td>\n",
       "    </tr>\n",
       "  </tbody>\n",
       "</table>\n",
       "</div>"
      ],
      "text/plain": [
       "   Sl.no         x         y         z        xf        yf        zf  \\\n",
       "0      0  0.879232  2.639278  9.231289  0.490048  3.427894  9.189057   \n",
       "1      1  0.951055  2.689554  9.202559  0.504372  3.400141  9.245837   \n",
       "2      2  0.996543  2.902629  9.102008  0.509832  3.382158  9.248402   \n",
       "3      3  1.006119  2.751801  9.192983  0.498998  3.412316  9.177763   \n",
       "4      4  0.958238  2.553091  9.322265  0.538940  3.520637  9.123471   \n",
       "\n",
       "        Activity  \n",
       "0  no-Earthquake  \n",
       "1  no-Earthquake  \n",
       "2  no-Earthquake  \n",
       "3  no-Earthquake  \n",
       "4  no-Earthquake  "
      ]
     },
     "execution_count": 245,
     "metadata": {},
     "output_type": "execute_result"
    }
   ],
   "source": [
    "dfn[\"Sl.no\"]= np.arange(len(dfn))\n",
    "dfn=dfn.reindex(columns=(\"Sl.no\",\"x\",\"y\",\"z\",\"xf\",\"yf\",\"zf\",\"Activity\"))\n",
    "dfn.head()"
   ]
  },
  {
   "cell_type": "code",
   "execution_count": 246,
   "metadata": {},
   "outputs": [
    {
     "data": {
      "text/html": [
       "<div>\n",
       "<style scoped>\n",
       "    .dataframe tbody tr th:only-of-type {\n",
       "        vertical-align: middle;\n",
       "    }\n",
       "\n",
       "    .dataframe tbody tr th {\n",
       "        vertical-align: top;\n",
       "    }\n",
       "\n",
       "    .dataframe thead th {\n",
       "        text-align: right;\n",
       "    }\n",
       "</style>\n",
       "<table border=\"1\" class=\"dataframe\">\n",
       "  <thead>\n",
       "    <tr style=\"text-align: right;\">\n",
       "      <th></th>\n",
       "      <th>Sl.no</th>\n",
       "      <th>xf</th>\n",
       "      <th>yf</th>\n",
       "      <th>zf</th>\n",
       "    </tr>\n",
       "  </thead>\n",
       "  <tbody>\n",
       "    <tr>\n",
       "      <th>count</th>\n",
       "      <td>600.000000</td>\n",
       "      <td>600.000000</td>\n",
       "      <td>600.000000</td>\n",
       "      <td>600.000000</td>\n",
       "    </tr>\n",
       "    <tr>\n",
       "      <th>mean</th>\n",
       "      <td>299.500000</td>\n",
       "      <td>-1.414444</td>\n",
       "      <td>-4.111281</td>\n",
       "      <td>3.582561</td>\n",
       "    </tr>\n",
       "    <tr>\n",
       "      <th>std</th>\n",
       "      <td>173.349358</td>\n",
       "      <td>5.379869</td>\n",
       "      <td>3.918458</td>\n",
       "      <td>4.282318</td>\n",
       "    </tr>\n",
       "    <tr>\n",
       "      <th>min</th>\n",
       "      <td>0.000000</td>\n",
       "      <td>-9.291665</td>\n",
       "      <td>-9.263750</td>\n",
       "      <td>-0.306848</td>\n",
       "    </tr>\n",
       "    <tr>\n",
       "      <th>25%</th>\n",
       "      <td>149.750000</td>\n",
       "      <td>-8.587190</td>\n",
       "      <td>-7.515579</td>\n",
       "      <td>0.085125</td>\n",
       "    </tr>\n",
       "    <tr>\n",
       "      <th>50%</th>\n",
       "      <td>299.500000</td>\n",
       "      <td>0.042447</td>\n",
       "      <td>-5.072593</td>\n",
       "      <td>0.877608</td>\n",
       "    </tr>\n",
       "    <tr>\n",
       "      <th>75%</th>\n",
       "      <td>449.250000</td>\n",
       "      <td>3.998276</td>\n",
       "      <td>-0.140366</td>\n",
       "      <td>9.121881</td>\n",
       "    </tr>\n",
       "    <tr>\n",
       "      <th>max</th>\n",
       "      <td>599.000000</td>\n",
       "      <td>4.560494</td>\n",
       "      <td>3.662899</td>\n",
       "      <td>9.857567</td>\n",
       "    </tr>\n",
       "  </tbody>\n",
       "</table>\n",
       "</div>"
      ],
      "text/plain": [
       "            Sl.no          xf          yf          zf\n",
       "count  600.000000  600.000000  600.000000  600.000000\n",
       "mean   299.500000   -1.414444   -4.111281    3.582561\n",
       "std    173.349358    5.379869    3.918458    4.282318\n",
       "min      0.000000   -9.291665   -9.263750   -0.306848\n",
       "25%    149.750000   -8.587190   -7.515579    0.085125\n",
       "50%    299.500000    0.042447   -5.072593    0.877608\n",
       "75%    449.250000    3.998276   -0.140366    9.121881\n",
       "max    599.000000    4.560494    3.662899    9.857567"
      ]
     },
     "execution_count": 246,
     "metadata": {},
     "output_type": "execute_result"
    }
   ],
   "source": [
    "dfn.describe()"
   ]
  },
  {
   "cell_type": "code",
   "execution_count": 247,
   "metadata": {},
   "outputs": [
    {
     "data": {
      "text/plain": [
       "Sl.no       0\n",
       "x           0\n",
       "y           0\n",
       "z           0\n",
       "xf          0\n",
       "yf          0\n",
       "zf          0\n",
       "Activity    0\n",
       "dtype: int64"
      ]
     },
     "execution_count": 247,
     "metadata": {},
     "output_type": "execute_result"
    }
   ],
   "source": [
    "dfn.isnull().sum()"
   ]
  },
  {
   "cell_type": "code",
   "execution_count": 248,
   "metadata": {},
   "outputs": [
    {
     "name": "stdout",
     "output_type": "stream",
     "text": [
      "   Sl.no          x          y         z        xf        yf        zf  \\\n",
      "0      0  -0.064043  -0.044506  9.456333 -0.076779 -0.093825  9.817077   \n",
      "1      1  -0.052072  -0.092388  9.973458 -0.076934 -0.093678  9.806609   \n",
      "2      2  -0.087984  -0.078024  9.525763 -0.077432 -0.092211  9.801616   \n",
      "3      3  -0.061649  -0.070842  10.02374 -0.077210 -0.092388  9.793132   \n",
      "4      4  -0.076013   -0.07563  9.410846 -0.078737 -0.094205  9.811734   \n",
      "\n",
      "     Activity  \n",
      "0  Earthquake  \n",
      "1  Earthquake  \n",
      "2  Earthquake  \n",
      "3  Earthquake  \n",
      "4  Earthquake  \n",
      "     Sl.no          x          y          z        xf        yf        zf  \\\n",
      "195    595  -10.59329  -4.212633  -1.082489 -8.980704 -5.027504 -0.077685   \n",
      "196    596  -8.263831  -4.387402  -0.349894 -9.094253 -5.024232 -0.101816   \n",
      "197    597  -7.875987  -5.526992   0.174413 -9.123055 -5.018674 -0.090990   \n",
      "198    598  -7.418714  -4.418525  -0.713797 -9.075519 -5.002685 -0.100287   \n",
      "199    599  -7.461808  -4.765669  -0.498328 -9.181783 -4.998265 -0.145751   \n",
      "\n",
      "          Activity  \n",
      "195  no-Earthquake  \n",
      "196  no-Earthquake  \n",
      "197  no-Earthquake  \n",
      "198  no-Earthquake  \n",
      "199  no-Earthquake  \n"
     ]
    }
   ],
   "source": [
    "df=pd.concat([dfe,dfn])\n",
    "print(df.head())\n",
    "print(df.tail())"
   ]
  },
  {
   "cell_type": "code",
   "execution_count": 249,
   "metadata": {},
   "outputs": [],
   "source": [
    "df.drop(columns=\"Sl.no\",inplace=True)\n",
    "df[\"Sl.no\"]= np.arange(len(df))\n",
    "df=df.reindex(columns=(\"Sl.no\",\"x\",\"y\",\"z\",\"xf\",\"yf\",\"zf\",\"Activity\"))"
   ]
  },
  {
   "cell_type": "code",
   "execution_count": 250,
   "metadata": {},
   "outputs": [
    {
     "data": {
      "text/html": [
       "<div>\n",
       "<style scoped>\n",
       "    .dataframe tbody tr th:only-of-type {\n",
       "        vertical-align: middle;\n",
       "    }\n",
       "\n",
       "    .dataframe tbody tr th {\n",
       "        vertical-align: top;\n",
       "    }\n",
       "\n",
       "    .dataframe thead th {\n",
       "        text-align: right;\n",
       "    }\n",
       "</style>\n",
       "<table border=\"1\" class=\"dataframe\">\n",
       "  <thead>\n",
       "    <tr style=\"text-align: right;\">\n",
       "      <th></th>\n",
       "      <th>Sl.no</th>\n",
       "      <th>x</th>\n",
       "      <th>y</th>\n",
       "      <th>z</th>\n",
       "      <th>xf</th>\n",
       "      <th>yf</th>\n",
       "      <th>zf</th>\n",
       "      <th>Activity</th>\n",
       "    </tr>\n",
       "  </thead>\n",
       "  <tbody>\n",
       "    <tr>\n",
       "      <th>0</th>\n",
       "      <td>0</td>\n",
       "      <td>-0.064043</td>\n",
       "      <td>-0.044506</td>\n",
       "      <td>9.456333</td>\n",
       "      <td>-0.076779</td>\n",
       "      <td>-0.093825</td>\n",
       "      <td>9.817077</td>\n",
       "      <td>Earthquake</td>\n",
       "    </tr>\n",
       "    <tr>\n",
       "      <th>1</th>\n",
       "      <td>1</td>\n",
       "      <td>-0.052072</td>\n",
       "      <td>-0.092388</td>\n",
       "      <td>9.973458</td>\n",
       "      <td>-0.076934</td>\n",
       "      <td>-0.093678</td>\n",
       "      <td>9.806609</td>\n",
       "      <td>Earthquake</td>\n",
       "    </tr>\n",
       "    <tr>\n",
       "      <th>2</th>\n",
       "      <td>2</td>\n",
       "      <td>-0.087984</td>\n",
       "      <td>-0.078024</td>\n",
       "      <td>9.525763</td>\n",
       "      <td>-0.077432</td>\n",
       "      <td>-0.092211</td>\n",
       "      <td>9.801616</td>\n",
       "      <td>Earthquake</td>\n",
       "    </tr>\n",
       "    <tr>\n",
       "      <th>3</th>\n",
       "      <td>3</td>\n",
       "      <td>-0.061649</td>\n",
       "      <td>-0.070842</td>\n",
       "      <td>10.02374</td>\n",
       "      <td>-0.077210</td>\n",
       "      <td>-0.092388</td>\n",
       "      <td>9.793132</td>\n",
       "      <td>Earthquake</td>\n",
       "    </tr>\n",
       "    <tr>\n",
       "      <th>4</th>\n",
       "      <td>4</td>\n",
       "      <td>-0.076013</td>\n",
       "      <td>-0.07563</td>\n",
       "      <td>9.410846</td>\n",
       "      <td>-0.078737</td>\n",
       "      <td>-0.094205</td>\n",
       "      <td>9.811734</td>\n",
       "      <td>Earthquake</td>\n",
       "    </tr>\n",
       "  </tbody>\n",
       "</table>\n",
       "</div>"
      ],
      "text/plain": [
       "   Sl.no          x          y         z        xf        yf        zf  \\\n",
       "0      0  -0.064043  -0.044506  9.456333 -0.076779 -0.093825  9.817077   \n",
       "1      1  -0.052072  -0.092388  9.973458 -0.076934 -0.093678  9.806609   \n",
       "2      2  -0.087984  -0.078024  9.525763 -0.077432 -0.092211  9.801616   \n",
       "3      3  -0.061649  -0.070842  10.02374 -0.077210 -0.092388  9.793132   \n",
       "4      4  -0.076013   -0.07563  9.410846 -0.078737 -0.094205  9.811734   \n",
       "\n",
       "     Activity  \n",
       "0  Earthquake  \n",
       "1  Earthquake  \n",
       "2  Earthquake  \n",
       "3  Earthquake  \n",
       "4  Earthquake  "
      ]
     },
     "execution_count": 250,
     "metadata": {},
     "output_type": "execute_result"
    }
   ],
   "source": [
    "df.head()"
   ]
  },
  {
   "cell_type": "code",
   "execution_count": 264,
   "metadata": {},
   "outputs": [
    {
     "data": {
      "text/html": [
       "<div>\n",
       "<style scoped>\n",
       "    .dataframe tbody tr th:only-of-type {\n",
       "        vertical-align: middle;\n",
       "    }\n",
       "\n",
       "    .dataframe tbody tr th {\n",
       "        vertical-align: top;\n",
       "    }\n",
       "\n",
       "    .dataframe thead th {\n",
       "        text-align: right;\n",
       "    }\n",
       "</style>\n",
       "<table border=\"1\" class=\"dataframe\">\n",
       "  <thead>\n",
       "    <tr style=\"text-align: right;\">\n",
       "      <th></th>\n",
       "      <th>Sl.no</th>\n",
       "      <th>xf</th>\n",
       "      <th>yf</th>\n",
       "      <th>zf</th>\n",
       "    </tr>\n",
       "  </thead>\n",
       "  <tbody>\n",
       "    <tr>\n",
       "      <th>count</th>\n",
       "      <td>1629.00000</td>\n",
       "      <td>1629.000000</td>\n",
       "      <td>1629.000000</td>\n",
       "      <td>1629.000000</td>\n",
       "    </tr>\n",
       "    <tr>\n",
       "      <th>mean</th>\n",
       "      <td>814.00000</td>\n",
       "      <td>0.652726</td>\n",
       "      <td>-0.433850</td>\n",
       "      <td>5.352595</td>\n",
       "    </tr>\n",
       "    <tr>\n",
       "      <th>std</th>\n",
       "      <td>470.39611</td>\n",
       "      <td>4.739150</td>\n",
       "      <td>4.763799</td>\n",
       "      <td>4.560841</td>\n",
       "    </tr>\n",
       "    <tr>\n",
       "      <th>min</th>\n",
       "      <td>0.00000</td>\n",
       "      <td>-9.291665</td>\n",
       "      <td>-9.263750</td>\n",
       "      <td>-0.306848</td>\n",
       "    </tr>\n",
       "    <tr>\n",
       "      <th>25%</th>\n",
       "      <td>407.00000</td>\n",
       "      <td>-0.079748</td>\n",
       "      <td>-0.188152</td>\n",
       "      <td>0.417989</td>\n",
       "    </tr>\n",
       "    <tr>\n",
       "      <th>50%</th>\n",
       "      <td>814.00000</td>\n",
       "      <td>0.009983</td>\n",
       "      <td>-0.130823</td>\n",
       "      <td>8.867768</td>\n",
       "    </tr>\n",
       "    <tr>\n",
       "      <th>75%</th>\n",
       "      <td>1221.00000</td>\n",
       "      <td>0.913276</td>\n",
       "      <td>-0.093137</td>\n",
       "      <td>9.841448</td>\n",
       "    </tr>\n",
       "    <tr>\n",
       "      <th>max</th>\n",
       "      <td>1628.00000</td>\n",
       "      <td>9.680131</td>\n",
       "      <td>9.583026</td>\n",
       "      <td>9.947124</td>\n",
       "    </tr>\n",
       "  </tbody>\n",
       "</table>\n",
       "</div>"
      ],
      "text/plain": [
       "            Sl.no           xf           yf           zf\n",
       "count  1629.00000  1629.000000  1629.000000  1629.000000\n",
       "mean    814.00000     0.652726    -0.433850     5.352595\n",
       "std     470.39611     4.739150     4.763799     4.560841\n",
       "min       0.00000    -9.291665    -9.263750    -0.306848\n",
       "25%     407.00000    -0.079748    -0.188152     0.417989\n",
       "50%     814.00000     0.009983    -0.130823     8.867768\n",
       "75%    1221.00000     0.913276    -0.093137     9.841448\n",
       "max    1628.00000     9.680131     9.583026     9.947124"
      ]
     },
     "execution_count": 264,
     "metadata": {},
     "output_type": "execute_result"
    }
   ],
   "source": [
    "df.describe()"
   ]
  },
  {
   "cell_type": "code",
   "execution_count": 251,
   "metadata": {},
   "outputs": [],
   "source": [
    "x1=df.iloc[:,4:7]\n",
    "y1=df[\"Activity\"]"
   ]
  },
  {
   "cell_type": "code",
   "execution_count": 252,
   "metadata": {},
   "outputs": [],
   "source": [
    "X_train, X_test, y_train, y_test = train_test_split(x1, y1, test_size=0.33, random_state=42,shuffle=True)"
   ]
  },
  {
   "cell_type": "code",
   "execution_count": 253,
   "metadata": {},
   "outputs": [
    {
     "name": "stdout",
     "output_type": "stream",
     "text": [
      "           xf        yf        zf\n",
      "22   0.003145 -0.130643  9.842548\n",
      "181 -0.087074 -0.100672  9.918730\n",
      "71   0.741859  0.385761  9.455089\n",
      "196  0.034446 -0.138702  9.857139\n",
      "165  0.018602 -0.118963  9.866778\n",
      "22        Earthquake\n",
      "181       Earthquake\n",
      "71     no-Earthquake\n",
      "196    no-Earthquake\n",
      "165       Earthquake\n",
      "Name: Activity, dtype: object\n",
      "           xf        yf        zf\n",
      "21   0.004710 -0.127936  9.846988\n",
      "251 -0.080624 -0.097886  9.927173\n",
      "90   9.674050 -0.186716  0.414637\n",
      "47  -0.035313  9.581973  1.234137\n",
      "99  -0.036846  9.579579  1.263393\n",
      "21     Earthquake\n",
      "251    Earthquake\n",
      "90     Earthquake\n",
      "47     Earthquake\n",
      "99     Earthquake\n",
      "Name: Activity, dtype: object\n"
     ]
    }
   ],
   "source": [
    "print(X_train.head())\n",
    "print(y_train.head())\n",
    "print(X_test.head())\n",
    "print(y_test.head())"
   ]
  },
  {
   "cell_type": "code",
   "execution_count": 254,
   "metadata": {},
   "outputs": [],
   "source": [
    "from sklearn.linear_model import LogisticRegression\n",
    "from sklearn.neighbors import KNeighborsRegressor\n",
    "from sklearn.tree import DecisionTreeRegressor\n",
    "from sklearn.svm import SVR\n",
    "from sklearn.model_selection import KFold\n",
    "from random import seed\n",
    "from sklearn.model_selection import cross_val_score\n",
    "\n",
    "\n",
    "\n"
   ]
  },
  {
   "cell_type": "code",
   "execution_count": 255,
   "metadata": {},
   "outputs": [
    {
     "name": "stdout",
     "output_type": "stream",
     "text": [
      "(538, 3) (538,)\n",
      "0.879182156133829\n"
     ]
    },
    {
     "name": "stderr",
     "output_type": "stream",
     "text": [
      "/home/ec2-user/anaconda3/envs/chainer_p36/lib/python3.6/site-packages/sklearn/linear_model/logistic.py:433: FutureWarning: Default solver will be changed to 'lbfgs' in 0.22. Specify a solver to silence this warning.\n",
      "  FutureWarning)\n"
     ]
    }
   ],
   "source": [
    "logisticRegr = LogisticRegression()\n",
    "logisticRegr.fit(X_train, y_train)\n",
    "predictions = logisticRegr.predict(X_test)\n",
    "score = logisticRegr.score(X_test, y_test)\n",
    "print(X_test.shape,y_test.shape)\n",
    "print(score)"
   ]
  },
  {
   "cell_type": "code",
   "execution_count": 256,
   "metadata": {},
   "outputs": [
    {
     "data": {
      "text/html": [
       "<div>\n",
       "<style scoped>\n",
       "    .dataframe tbody tr th:only-of-type {\n",
       "        vertical-align: middle;\n",
       "    }\n",
       "\n",
       "    .dataframe tbody tr th {\n",
       "        vertical-align: top;\n",
       "    }\n",
       "\n",
       "    .dataframe thead th {\n",
       "        text-align: right;\n",
       "    }\n",
       "</style>\n",
       "<table border=\"1\" class=\"dataframe\">\n",
       "  <thead>\n",
       "    <tr style=\"text-align: right;\">\n",
       "      <th></th>\n",
       "      <th>x</th>\n",
       "      <th>y</th>\n",
       "      <th>z</th>\n",
       "    </tr>\n",
       "  </thead>\n",
       "  <tbody>\n",
       "    <tr>\n",
       "      <th>0</th>\n",
       "      <td>-0.00419</td>\n",
       "      <td>-0.085206</td>\n",
       "      <td>9.772354</td>\n",
       "    </tr>\n",
       "    <tr>\n",
       "      <th>1</th>\n",
       "      <td>0.081997</td>\n",
       "      <td>-0.097177</td>\n",
       "      <td>10.10753</td>\n",
       "    </tr>\n",
       "    <tr>\n",
       "      <th>2</th>\n",
       "      <td>-0.140654</td>\n",
       "      <td>-0.164211</td>\n",
       "      <td>10.07641</td>\n",
       "    </tr>\n",
       "    <tr>\n",
       "      <th>3</th>\n",
       "      <td>0.034115</td>\n",
       "      <td>-0.101965</td>\n",
       "      <td>9.844177</td>\n",
       "    </tr>\n",
       "    <tr>\n",
       "      <th>4</th>\n",
       "      <td>0.10115</td>\n",
       "      <td>-0.080418</td>\n",
       "      <td>9.688561</td>\n",
       "    </tr>\n",
       "  </tbody>\n",
       "</table>\n",
       "</div>"
      ],
      "text/plain": [
       "           x          y         z\n",
       "0   -0.00419  -0.085206  9.772354\n",
       "1   0.081997  -0.097177  10.10753\n",
       "2  -0.140654  -0.164211  10.07641\n",
       "3   0.034115  -0.101965  9.844177\n",
       "4    0.10115  -0.080418  9.688561"
      ]
     },
     "execution_count": 256,
     "metadata": {},
     "output_type": "execute_result"
    }
   ],
   "source": [
    "bucket='dabba10'\n",
    "data_key = 'data/2020/05/11/04/testing.parquet'\n",
    "data_location = 's3://{}/{}'.format(bucket, data_key)\n",
    "\n",
    "df_test=pd.read_parquet(data_location)\n",
    "df_test.head()"
   ]
  },
  {
   "cell_type": "markdown",
   "metadata": {},
   "source": [
    "TEST YOUR DATA HERE"
   ]
  },
  {
   "cell_type": "code",
   "execution_count": 257,
   "metadata": {},
   "outputs": [
    {
     "data": {
      "text/html": [
       "<div>\n",
       "<style scoped>\n",
       "    .dataframe tbody tr th:only-of-type {\n",
       "        vertical-align: middle;\n",
       "    }\n",
       "\n",
       "    .dataframe tbody tr th {\n",
       "        vertical-align: top;\n",
       "    }\n",
       "\n",
       "    .dataframe thead th {\n",
       "        text-align: right;\n",
       "    }\n",
       "</style>\n",
       "<table border=\"1\" class=\"dataframe\">\n",
       "  <thead>\n",
       "    <tr style=\"text-align: right;\">\n",
       "      <th></th>\n",
       "      <th>x</th>\n",
       "      <th>y</th>\n",
       "      <th>z</th>\n",
       "      <th>xf</th>\n",
       "      <th>yf</th>\n",
       "      <th>zf</th>\n",
       "    </tr>\n",
       "  </thead>\n",
       "  <tbody>\n",
       "    <tr>\n",
       "      <th>0</th>\n",
       "      <td>-0.00419</td>\n",
       "      <td>-0.085206</td>\n",
       "      <td>9.772354</td>\n",
       "      <td>-0.010606</td>\n",
       "      <td>-0.121501</td>\n",
       "      <td>9.864863</td>\n",
       "    </tr>\n",
       "    <tr>\n",
       "      <th>1</th>\n",
       "      <td>0.081997</td>\n",
       "      <td>-0.097177</td>\n",
       "      <td>10.10753</td>\n",
       "      <td>-0.011280</td>\n",
       "      <td>-0.122499</td>\n",
       "      <td>9.854215</td>\n",
       "    </tr>\n",
       "    <tr>\n",
       "      <th>2</th>\n",
       "      <td>-0.140654</td>\n",
       "      <td>-0.164211</td>\n",
       "      <td>10.07641</td>\n",
       "      <td>-0.010308</td>\n",
       "      <td>-0.122891</td>\n",
       "      <td>9.849764</td>\n",
       "    </tr>\n",
       "    <tr>\n",
       "      <th>3</th>\n",
       "      <td>0.034115</td>\n",
       "      <td>-0.101965</td>\n",
       "      <td>9.844177</td>\n",
       "      <td>-0.012228</td>\n",
       "      <td>-0.124281</td>\n",
       "      <td>9.861621</td>\n",
       "    </tr>\n",
       "    <tr>\n",
       "      <th>4</th>\n",
       "      <td>0.10115</td>\n",
       "      <td>-0.080418</td>\n",
       "      <td>9.688561</td>\n",
       "      <td>-0.012858</td>\n",
       "      <td>-0.125328</td>\n",
       "      <td>9.879347</td>\n",
       "    </tr>\n",
       "  </tbody>\n",
       "</table>\n",
       "</div>"
      ],
      "text/plain": [
       "           x          y         z        xf        yf        zf\n",
       "0   -0.00419  -0.085206  9.772354 -0.010606 -0.121501  9.864863\n",
       "1   0.081997  -0.097177  10.10753 -0.011280 -0.122499  9.854215\n",
       "2  -0.140654  -0.164211  10.07641 -0.010308 -0.122891  9.849764\n",
       "3   0.034115  -0.101965  9.844177 -0.012228 -0.124281  9.861621\n",
       "4    0.10115  -0.080418  9.688561 -0.012858 -0.125328  9.879347"
      ]
     },
     "execution_count": 257,
     "metadata": {},
     "output_type": "execute_result"
    }
   ],
   "source": [
    "df_test[\"xf\"]=filter(df_test[\"x\"])\n",
    "df_test[\"yf\"]=filter(df_test[\"y\"])\n",
    "df_test[\"zf\"]=filter(df_test[\"z\"])\n",
    "df_test.head()"
   ]
  },
  {
   "cell_type": "code",
   "execution_count": 258,
   "metadata": {},
   "outputs": [
    {
     "data": {
      "text/html": [
       "<div>\n",
       "<style scoped>\n",
       "    .dataframe tbody tr th:only-of-type {\n",
       "        vertical-align: middle;\n",
       "    }\n",
       "\n",
       "    .dataframe tbody tr th {\n",
       "        vertical-align: top;\n",
       "    }\n",
       "\n",
       "    .dataframe thead th {\n",
       "        text-align: right;\n",
       "    }\n",
       "</style>\n",
       "<table border=\"1\" class=\"dataframe\">\n",
       "  <thead>\n",
       "    <tr style=\"text-align: right;\">\n",
       "      <th></th>\n",
       "      <th>xf</th>\n",
       "      <th>yf</th>\n",
       "      <th>zf</th>\n",
       "    </tr>\n",
       "  </thead>\n",
       "  <tbody>\n",
       "    <tr>\n",
       "      <th>0</th>\n",
       "      <td>-0.010606</td>\n",
       "      <td>-0.121501</td>\n",
       "      <td>9.864863</td>\n",
       "    </tr>\n",
       "    <tr>\n",
       "      <th>1</th>\n",
       "      <td>-0.011280</td>\n",
       "      <td>-0.122499</td>\n",
       "      <td>9.854215</td>\n",
       "    </tr>\n",
       "    <tr>\n",
       "      <th>2</th>\n",
       "      <td>-0.010308</td>\n",
       "      <td>-0.122891</td>\n",
       "      <td>9.849764</td>\n",
       "    </tr>\n",
       "    <tr>\n",
       "      <th>3</th>\n",
       "      <td>-0.012228</td>\n",
       "      <td>-0.124281</td>\n",
       "      <td>9.861621</td>\n",
       "    </tr>\n",
       "    <tr>\n",
       "      <th>4</th>\n",
       "      <td>-0.012858</td>\n",
       "      <td>-0.125328</td>\n",
       "      <td>9.879347</td>\n",
       "    </tr>\n",
       "  </tbody>\n",
       "</table>\n",
       "</div>"
      ],
      "text/plain": [
       "         xf        yf        zf\n",
       "0 -0.010606 -0.121501  9.864863\n",
       "1 -0.011280 -0.122499  9.854215\n",
       "2 -0.010308 -0.122891  9.849764\n",
       "3 -0.012228 -0.124281  9.861621\n",
       "4 -0.012858 -0.125328  9.879347"
      ]
     },
     "execution_count": 258,
     "metadata": {},
     "output_type": "execute_result"
    }
   ],
   "source": [
    "test=df_test.iloc[:,3:6]\n",
    "test.head()"
   ]
  },
  {
   "cell_type": "code",
   "execution_count": 265,
   "metadata": {},
   "outputs": [
    {
     "data": {
      "text/plain": [
       "array(['Earthquake', 'Earthquake', 'Earthquake', 'Earthquake',\n",
       "       'Earthquake', 'Earthquake', 'Earthquake', 'Earthquake',\n",
       "       'Earthquake', 'Earthquake'], dtype=object)"
      ]
     },
     "execution_count": 265,
     "metadata": {},
     "output_type": "execute_result"
    }
   ],
   "source": [
    "predictions = logisticRegr.predict(test)\n",
    "predictions[0:10]"
   ]
  },
  {
   "cell_type": "code",
   "execution_count": 260,
   "metadata": {},
   "outputs": [
    {
     "name": "stdout",
     "output_type": "stream",
     "text": [
      "['Earthquake' 'Earthquake' 'Earthquake' 'Earthquake' 'Earthquake']\n",
      "1.0\n"
     ]
    }
   ],
   "source": [
    "from sklearn.neighbors import KNeighborsClassifier\n",
    "# Create KNN classifier\n",
    "knn = KNeighborsClassifier(n_neighbors = 2)\n",
    "# Fit the classifier to the data\n",
    "knn.fit(X_train,y_train)\n",
    "print(knn.predict(X_test)[0:5])\n",
    "print(knn.score(X_test, y_test))\n"
   ]
  },
  {
   "cell_type": "code",
   "execution_count": 261,
   "metadata": {},
   "outputs": [],
   "source": [
    "import pandas as pd \n",
    "import numpy as np\n",
    "from sklearn.metrics import accuracy_score, confusion_matrix\n",
    "from sklearn.ensemble import RandomForestClassifier\n",
    "from sklearn import svm, tree\n",
    "from sklearn.model_selection import train_test_split"
   ]
  },
  {
   "cell_type": "code",
   "execution_count": 262,
   "metadata": {},
   "outputs": [],
   "source": [
    "classifiers=[]\n",
    "model2 = svm.SVC()\n",
    "classifiers.append(model2)\n",
    "model3 = tree.DecisionTreeClassifier()\n",
    "classifiers.append(model3)\n",
    "model4 = RandomForestClassifier()\n",
    "classifiers.append(model4)"
   ]
  },
  {
   "cell_type": "code",
   "execution_count": 263,
   "metadata": {},
   "outputs": [
    {
     "name": "stdout",
     "output_type": "stream",
     "text": [
      "Accuracy of SVC(C=1.0, cache_size=200, class_weight=None, coef0=0.0,\n",
      "  decision_function_shape='ovr', degree=3, gamma='auto_deprecated',\n",
      "  kernel='rbf', max_iter=-1, probability=False, random_state=None,\n",
      "  shrinking=True, tol=0.001, verbose=False) is 0.9200743494423792\n",
      "Confusion Matrix of SVC(C=1.0, cache_size=200, class_weight=None, coef0=0.0,\n",
      "  decision_function_shape='ovr', degree=3, gamma='auto_deprecated',\n",
      "  kernel='rbf', max_iter=-1, probability=False, random_state=None,\n",
      "  shrinking=True, tol=0.001, verbose=False) is [[342   0]\n",
      " [ 43 153]]\n",
      "Accuracy of DecisionTreeClassifier(class_weight=None, criterion='gini', max_depth=None,\n",
      "            max_features=None, max_leaf_nodes=None,\n",
      "            min_impurity_decrease=0.0, min_impurity_split=None,\n",
      "            min_samples_leaf=1, min_samples_split=2,\n",
      "            min_weight_fraction_leaf=0.0, presort=False, random_state=None,\n",
      "            splitter='best') is 0.9888475836431226\n",
      "Confusion Matrix of DecisionTreeClassifier(class_weight=None, criterion='gini', max_depth=None,\n",
      "            max_features=None, max_leaf_nodes=None,\n",
      "            min_impurity_decrease=0.0, min_impurity_split=None,\n",
      "            min_samples_leaf=1, min_samples_split=2,\n",
      "            min_weight_fraction_leaf=0.0, presort=False, random_state=None,\n",
      "            splitter='best') is [[339   3]\n",
      " [  3 193]]\n",
      "Accuracy of RandomForestClassifier(bootstrap=True, class_weight=None, criterion='gini',\n",
      "            max_depth=None, max_features='auto', max_leaf_nodes=None,\n",
      "            min_impurity_decrease=0.0, min_impurity_split=None,\n",
      "            min_samples_leaf=1, min_samples_split=2,\n",
      "            min_weight_fraction_leaf=0.0, n_estimators=10, n_jobs=None,\n",
      "            oob_score=False, random_state=None, verbose=0,\n",
      "            warm_start=False) is 0.9981412639405205\n",
      "Confusion Matrix of RandomForestClassifier(bootstrap=True, class_weight=None, criterion='gini',\n",
      "            max_depth=None, max_features='auto', max_leaf_nodes=None,\n",
      "            min_impurity_decrease=0.0, min_impurity_split=None,\n",
      "            min_samples_leaf=1, min_samples_split=2,\n",
      "            min_weight_fraction_leaf=0.0, n_estimators=10, n_jobs=None,\n",
      "            oob_score=False, random_state=None, verbose=0,\n",
      "            warm_start=False) is [[342   0]\n",
      " [  1 195]]\n"
     ]
    },
    {
     "name": "stderr",
     "output_type": "stream",
     "text": [
      "/home/ec2-user/anaconda3/envs/chainer_p36/lib/python3.6/site-packages/sklearn/svm/base.py:196: FutureWarning: The default value of gamma will change from 'auto' to 'scale' in version 0.22 to account better for unscaled features. Set gamma explicitly to 'auto' or 'scale' to avoid this warning.\n",
      "  \"avoid this warning.\", FutureWarning)\n",
      "/home/ec2-user/anaconda3/envs/chainer_p36/lib/python3.6/site-packages/sklearn/ensemble/forest.py:246: FutureWarning: The default value of n_estimators will change from 10 in version 0.20 to 100 in 0.22.\n",
      "  \"10 in version 0.20 to 100 in 0.22.\", FutureWarning)\n"
     ]
    }
   ],
   "source": [
    "for clf in classifiers:\n",
    "    clf.fit(X_train, y_train)\n",
    "    y_pred= clf.predict(X_test)\n",
    "    acc = accuracy_score(y_test, y_pred)\n",
    "    print(\"Accuracy of %s is %s\"%(clf,acc))\n",
    "    cm = confusion_matrix(y_test, y_pred)\n",
    "    print(\"Confusion Matrix of %s is %s\"%(clf, cm))"
   ]
  }
 ],
 "metadata": {
  "kernelspec": {
   "display_name": "conda_chainer_p36",
   "language": "python",
   "name": "conda_chainer_p36"
  },
  "language_info": {
   "codemirror_mode": {
    "name": "ipython",
    "version": 3
   },
   "file_extension": ".py",
   "mimetype": "text/x-python",
   "name": "python",
   "nbconvert_exporter": "python",
   "pygments_lexer": "ipython3",
   "version": "3.6.5"
  }
 },
 "nbformat": 4,
 "nbformat_minor": 4
}
